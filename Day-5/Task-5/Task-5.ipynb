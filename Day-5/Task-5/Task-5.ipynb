{
 "cells": [
  {
   "cell_type": "markdown",
   "metadata": {},
   "source": [
    "<b>1. Create a class cal1 that will calculate sum of three numbers. Create \n",
    "setdata() method which has three parameters that contain numbers. \n",
    "Create display() method that will calculate sum and display sum.<b>"
   ]
  },
  {
   "cell_type": "code",
   "execution_count": 1,
   "metadata": {},
   "outputs": [
    {
     "name": "stdout",
     "output_type": "stream",
     "text": [
      "Enter No.1:2\n",
      "Enter No.2:3\n",
      "Enter No.3:4\n",
      "2 + 3 + 4 = 9\n"
     ]
    }
   ],
   "source": [
    "class cal1:\n",
    "    n1=n2=n3=0\n",
    "    def setdata(self,n1,n2,n3):\n",
    "        self.n1= n1\n",
    "        self.n2= n2\n",
    "        self.n3= n3\n",
    "        \n",
    "    def display(self):\n",
    "        total = n1 + n2 + n3\n",
    "        print(n1,'+',n2,'+',n3,'=',total)\n",
    "        \n",
    "        \n",
    "calc = cal1()\n",
    "n1 = int(input(\"Enter No.1:\"))\n",
    "n2 = int(input(\"Enter No.2:\"))\n",
    "n3 = int(input(\"Enter No.3:\"))\n",
    "calc.setdata(n1,n2,n3)\n",
    "calc.display()"
   ]
  },
  {
   "cell_type": "markdown",
   "metadata": {},
   "source": [
    "<hr style=\"border:1px solid black\"><b>2. Create a class cal2 that will calculate area of a circle. Create setdata()\n",
    "method that should take radius from the user. Create area() method\n",
    "that will calculate area . Create display() method that will display area .</b>\n"
   ]
  },
  {
   "cell_type": "code",
   "execution_count": 2,
   "metadata": {},
   "outputs": [
    {
     "name": "stdout",
     "output_type": "stream",
     "text": [
      "Enter a radius:4\n",
      "Area of circle: 50.27\n"
     ]
    }
   ],
   "source": [
    "import math\n",
    "class cal2:\n",
    "    def setdata(self,radius):\n",
    "        self.radius = radius\n",
    "    def area(self):\n",
    "        area = math.pi *(radius**2)\n",
    "        self.area =area\n",
    "    def display(self):\n",
    "        print('Area of circle: {:.2f}'.format(self.area))\n",
    "\n",
    "radius = int(input(\"Enter a radius:\"))\n",
    "obj = cal2()\n",
    "obj.setdata(radius)\n",
    "obj.area()\n",
    "obj.display()"
   ]
  },
  {
   "cell_type": "code",
   "execution_count": 3,
   "metadata": {},
   "outputs": [
    {
     "name": "stdout",
     "output_type": "stream",
     "text": [
      "Area of circle with radius 3 =28.27\n"
     ]
    }
   ],
   "source": [
    "import math\n",
    "class Cal2:\n",
    "    def setdata(self,radius):\n",
    "        self.radius =radius\n",
    "    def display(self):\n",
    "        area = math.pi*self.radius*self.radius\n",
    "        print('Area of circle with radius {} ={:.2f}'.format(self.radius,area))\n",
    "\n",
    "\n",
    "obj = Cal2()\n",
    "obj.setdata(3)\n",
    "obj.display()"
   ]
  },
  {
   "cell_type": "markdown",
   "metadata": {},
   "source": [
    "<hr style=\"border:1px solid black\"><b>3. Create a class cal3 that will calculate simple interest. Create\n",
    "constructor method which has three parameters .Create calInterest()\n",
    "method that will calculate Interest . Create display() method that will\n",
    "display Interest.</b>"
   ]
  },
  {
   "cell_type": "code",
   "execution_count": 4,
   "metadata": {},
   "outputs": [
    {
     "name": "stdout",
     "output_type": "stream",
     "text": [
      "Enter p:5000\n",
      "Enter r:7\n",
      "Enter n:5\n",
      "p=5000,r=7.0,n=5  Interest = 1750.00\n"
     ]
    }
   ],
   "source": [
    "class cal3:\n",
    "    p=r=n=interest=0\n",
    "    def __init__(self,p,r,n):\n",
    "        self.p = p \n",
    "        self.r = r\n",
    "        self.n = n\n",
    "        \n",
    "    def calInterest(self):\n",
    "        interest = (p*r*n)/100\n",
    "        self.interest = interest\n",
    "    def display(self):\n",
    "        print('p={},r={},n={}  Interest = {:.2f}'.format(self.p,self.r,self.n,self.interest))\n",
    "        \n",
    "p  = int(input(\"Enter p:\"))\n",
    "r  = float(input(\"Enter r:\"))\n",
    "n  = int(input(\"Enter n:\")) \n",
    "obj = cal3(p,r,n)\n",
    "obj.calInterest()\n",
    "obj.display()"
   ]
  },
  {
   "cell_type": "markdown",
   "metadata": {},
   "source": [
    "<hr style=\"border:1px solid black\"><b>4. Create a class cal4 that will calculate square of a number. Create\n",
    "setdata() method which has one parameters that contain number.\n",
    "Create display() method that will calculate sum.(Function should\n",
    "return value)\n",
    "</b>"
   ]
  },
  {
   "cell_type": "code",
   "execution_count": 5,
   "metadata": {},
   "outputs": [
    {
     "name": "stdout",
     "output_type": "stream",
     "text": [
      "Enter number:5\n",
      "Sqaure of 5 is 25.\n"
     ]
    }
   ],
   "source": [
    "class cal4:\n",
    "    def setData(self,num):\n",
    "        self.num = radius\n",
    "    def display(self):\n",
    "        return num**2\n",
    "        \n",
    "num = int(input(\"Enter number:\"))\n",
    "obj = cal4()\n",
    "obj.setData(num)\n",
    "square = obj.display()\n",
    "print(f'Sqaure of {num} is {square}.')"
   ]
  },
  {
   "cell_type": "markdown",
   "metadata": {},
   "source": [
    "<hr style=\"border:1px solid black\"><b>5. Consider an employee class, which contains fields such as name and\n",
    "designation. And a subclass, which contains a field salary. Write a\n",
    "program for inheriting this relation.\n",
    "</b>"
   ]
  },
  {
   "cell_type": "code",
   "execution_count": 6,
   "metadata": {},
   "outputs": [
    {
     "name": "stdout",
     "output_type": "stream",
     "text": [
      "-------Employee Class-------\n",
      "Name: Nishant Movaliya\n",
      "Designation: SDE 1\n",
      "\n",
      "-------SubEmployee Class---------\n",
      "Name :  Nishant Movaliya\n",
      "Designation :  SDE 1\n",
      "Salary :  1200000\n"
     ]
    }
   ],
   "source": [
    "class Employee:\n",
    "    name =\"Nishant Movaliya\"\n",
    "    designation = \"SDE 1\"\n",
    "    def display(self):\n",
    "        print('Name:',self.name)\n",
    "        print('Designation:',self.designation)\n",
    "class SubEmployee(Employee):\n",
    "    salary = 1200000\n",
    "    def display(self):\n",
    "        print('Name : ',self.name)\n",
    "        print('Designation : ',self.designation)\n",
    "        print('Salary : ',self.salary)\n",
    "\n",
    "obj1 = Employee()\n",
    "obj2 = SubEmployee()\n",
    "print('-------Employee Class-------')\n",
    "obj1.display()\n",
    "print()\n",
    "print(\"-------SubEmployee Class---------\")\n",
    "obj2.display()\n"
   ]
  },
  {
   "cell_type": "markdown",
   "metadata": {},
   "source": [
    "<hr style=\"border:1px solid black\"><b>6. Create a class cal5 that will calculate area of a rectangle. Create\n",
    "constructor method which has two parameters .Create calArea()\n",
    "method that will calculate area of a rectangle. Create display() method\n",
    "that will display area of a rectangle.</b>"
   ]
  },
  {
   "cell_type": "code",
   "execution_count": 7,
   "metadata": {},
   "outputs": [
    {
     "name": "stdout",
     "output_type": "stream",
     "text": [
      "Length:3\n",
      "Breadth:4\n",
      "Area of rectangle is 12.\n"
     ]
    }
   ],
   "source": [
    "class cal5:\n",
    "    area=l=b=0\n",
    "    def __init__(self,l,b):\n",
    "        self.l = l\n",
    "        self.b = b\n",
    "    def calArea(self):\n",
    "        area = l*b\n",
    "        self.area = area\n",
    "    def display(self):\n",
    "        print(f'Area of rectangle is {self.area}.')\n",
    "        \n",
    "l = int(input('Length:'))\n",
    "b = int(input('Breadth:'))\n",
    "ract = cal5(l,b)\n",
    "ract.calArea()\n",
    "ract.display()\n"
   ]
  },
  {
   "cell_type": "markdown",
   "metadata": {},
   "source": [
    "<hr style=\"border:1px solid black\"><b>7. Create a class cal6 that will calculate area of a square. Create setdata()\n",
    "method that should take length from the user. Create area() method\n",
    "that will calculate area . Create display() method that will display area .</b>"
   ]
  },
  {
   "cell_type": "code",
   "execution_count": 8,
   "metadata": {},
   "outputs": [
    {
     "name": "stdout",
     "output_type": "stream",
     "text": [
      "Length of Square:8\n",
      "Area of rectangle is 64.\n"
     ]
    }
   ],
   "source": [
    "class cal6:\n",
    "    area=l=b=0\n",
    "    def setdata(self,l):\n",
    "        self.l = l\n",
    "    def area(self):\n",
    "        area = l**2\n",
    "        self.area = area\n",
    "    def display(self):\n",
    "        print(f'Area of rectangle is {self.area}.')\n",
    "        \n",
    "l = int(input('Length of Square:'))\n",
    "sq = cal6()\n",
    "sq.setdata(l)\n",
    "sq.area()\n",
    "sq.display()\n"
   ]
  },
  {
   "cell_type": "markdown",
   "metadata": {},
   "source": [
    "<hr style=\"border:1px solid black\"><b>8. Write a program with use of inheritance: Define a class publisher that\n",
    "stores the name of the title. Derive two classes book and tape, which\n",
    "inherit publisher. Book class contains member data called page no and\n",
    "tape class contain time for playing. Define functions in the appropriate\n",
    "classes to get and print the details. </b>"
   ]
  },
  {
   "cell_type": "code",
   "execution_count": 9,
   "metadata": {},
   "outputs": [
    {
     "name": "stdout",
     "output_type": "stream",
     "text": [
      "----Publisher Class----\n",
      "Name :  Steve Jobs  \n",
      "\n",
      "----Book Class----\n",
      "Name :  Steve Jobs \n",
      "Pages: 700 \n",
      "\n",
      "----Tape Class----\n",
      "Name :  Steve Jobs \n",
      "Pages: 700\n",
      "time :3 hrs \n",
      "\n"
     ]
    }
   ],
   "source": [
    "class publisher:\n",
    "    title = \"Steve Jobs \"\n",
    "    def display(self):\n",
    "        print(\"Name : \",self.title,\"\\n\")\n",
    "class book(publisher):\n",
    "    pages = 700\n",
    "    def display(self):\n",
    "        print(\"Name : \",self.title)\n",
    "        print('Pages:',self.pages,\"\\n\")\n",
    "\n",
    "class tape(book):\n",
    "    time = 3\n",
    "    def display(self):\n",
    "        print(\"Name : \",self.title)\n",
    "        print('Pages:',self.pages)\n",
    "        print('time :{} hrs'.format(self.time),\"\\n\")\n",
    "        \n",
    "obj1 = publisher()\n",
    "obj2 = book()\n",
    "obj3 = tape()\n",
    "print(\"----Publisher Class----\")\n",
    "obj1.display() \n",
    "print(\"----Book Class----\")\n",
    "obj2.display() \n",
    "print(\"----Tape Class----\")\n",
    "obj3.display() \n"
   ]
  },
  {
   "cell_type": "markdown",
   "metadata": {},
   "source": [
    "<hr style=\"border:1px solid black\"><b>9. Create a class called scheme with scheme_id,\n",
    "scheme_name,outgoing_rate, and message_charge. Derive customer\n",
    "class form scheme and include cust_id, name and mobile_no\n",
    "data.Define necessary functions to read and display data.</b>"
   ]
  },
  {
   "cell_type": "code",
   "execution_count": 10,
   "metadata": {},
   "outputs": [
    {
     "name": "stdout",
     "output_type": "stream",
     "text": [
      "Scheme id       :  1\n",
      "Scheme name     :  XYZ\n",
      "Outgoing rate   :  0.6\n",
      "Message Charge  :  10000\n",
      "------------------------------\n",
      "Customer id     :  1\n",
      "Customer name   :  John Doe\n",
      "Customer mobile :  1234569878\n"
     ]
    }
   ],
   "source": [
    "class scheme:\n",
    "    scheme_id = outgoing_rate = message_charge = 0\n",
    "    scheme_name = ''\n",
    "    \n",
    "    def __init__(self,id,name,rate,charge):\n",
    "        self.scheme_id = id\n",
    "        self.scheme_name = name\n",
    "        self.outgoing_rate = rate\n",
    "        self.message_charge = charge\n",
    "        \n",
    "    def display(self):\n",
    "        print(\"Scheme id       : \",self.scheme_id)\n",
    "        print(\"Scheme name     : \",self.scheme_name)\n",
    "        print(\"Outgoing rate   : \",self.outgoing_rate)\n",
    "        print(\"Message Charge  : \",self.message_charge)\n",
    "        \n",
    "class customer(scheme):\n",
    "    cust_id = mobile_no = 0\n",
    "    name = ''\n",
    "    def __init__(self,id,name,mobile):\n",
    "        self.cust_id = id\n",
    "        self.cust_name = name\n",
    "        self.mobile_no = mobile \n",
    "\n",
    "    def display(self):\n",
    "        print(\"Customer id     : \",self.cust_id)\n",
    "        print(\"Customer name   : \",self.cust_name)\n",
    "        print(\"Customer mobile : \",self.mobile_no)\n",
    "    \n",
    "sc = scheme(1,\"XYZ\",0.60,10000) \n",
    "cust = customer(1,\"John Doe\",1234569878)\n",
    "sc.display()\n",
    "print('------------------------------')\n",
    "cust.display()"
   ]
  },
  {
   "cell_type": "markdown",
   "metadata": {},
   "source": [
    "<hr style=\"border:1px solid black\"><b>10.Create a arith class. The class should have a parameterized constructor\n",
    "and methods to add, subtract and multiply two numbers and to return\n",
    "the answers.</b>"
   ]
  },
  {
   "cell_type": "code",
   "execution_count": null,
   "metadata": {},
   "outputs": [],
   "source": [
    "class arith:\n",
    "    def __init__(self,num1,num2):\n",
    "        self.num1 = num1\n",
    "        self.num2 = num2\n",
    "    def summation(self):\n",
    "        return (self.num1 + self.num2)\n",
    "    def subtract(self):\n",
    "        return (self.num1 - self.num2)\n",
    "    def multiply(self):\n",
    "        return (self.num1 * self.num2)\n",
    "    \n",
    "n1 = int(input('No.1:'))\n",
    "n2 = int(input('No.2:'))\n",
    "calc = arith(n1,n2)\n",
    "ans = calc.summation()\n",
    "print(\"{} + {} = {}\".format(n1,n2,ans))\n",
    "ans = calc.subtract()\n",
    "print(\"{} - {} = {}\".format(n1,n2,ans))\n",
    "ans = calc.multiply()\n",
    "print(\"{} * {} = {}\".format(n1,n2,ans))"
   ]
  },
  {
   "cell_type": "code",
   "execution_count": null,
   "metadata": {},
   "outputs": [],
   "source": []
  }
 ],
 "metadata": {
  "kernelspec": {
   "display_name": "Python 3",
   "language": "python",
   "name": "python3"
  },
  "language_info": {
   "codemirror_mode": {
    "name": "ipython",
    "version": 3
   },
   "file_extension": ".py",
   "mimetype": "text/x-python",
   "name": "python",
   "nbconvert_exporter": "python",
   "pygments_lexer": "ipython3",
   "version": "3.8.3"
  }
 },
 "nbformat": 4,
 "nbformat_minor": 4
}
