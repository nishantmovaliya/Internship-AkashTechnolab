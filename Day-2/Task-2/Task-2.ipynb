{
 "cells": [
  {
   "cell_type": "markdown",
   "metadata": {},
   "source": [
    "<b>Comments</b>"
   ]
  },
  {
   "cell_type": "code",
   "execution_count": 1,
   "metadata": {},
   "outputs": [],
   "source": [
    "#this is a comment\n",
    "#print Hello World\n",
    "print('Hello World!!!')\n",
    "\n",
    "'''This is a \n",
    "    example of \n",
    "    multi-line comment\n",
    "'''\n",
    "\n",
    "\"\"\"This is a \n",
    "    example of \n",
    "    multi-line comment\n",
    "\"\"\""
   ]
  },
  {
   "cell_type": "markdown",
   "metadata": {},
   "source": [
    "<hr style=\"border:1px solid black\"><b>Variables</b>"
   ]
  },
  {
   "cell_type": "code",
   "execution_count": 2,
   "metadata": {},
   "outputs": [
    {
     "name": "stdout",
     "output_type": "stream",
     "text": [
      "10\n",
      "Value of b: 10.5\n",
      "My name is  Nishant\n",
      "\n",
      "a: 10 b: 10.5  My name is Nishant\n",
      "\n",
      "a: 5 b: 5 c: 5\n"
     ]
    }
   ],
   "source": [
    "#How to Declare and use a Variable\n",
    "a=10\n",
    "b=10.5\n",
    "c=\"Nishant\"\n",
    "\n",
    "print(a)\n",
    "print('Value of b:',b)\n",
    "print('My name is ',c)\n",
    "\n",
    "#Assigning multiple values to multiple variables\n",
    "print()\n",
    "a,b,c= 10,10.5,\"Nishant\"\n",
    "print('a:',a,'b:',b,' My name is',c)\n",
    "\n",
    "#Assign the same value to multiple variables\n",
    "print()\n",
    "a=b=c=5\n",
    "print(\"a:\",a,\"b:\",b,\"c:\",c)\n"
   ]
  },
  {
   "cell_type": "markdown",
   "metadata": {},
   "source": [
    "<hr style=\"border:1px solid black\"><b>Number Datatype</b>"
   ]
  },
  {
   "cell_type": "code",
   "execution_count": 3,
   "metadata": {},
   "outputs": [
    {
     "name": "stdout",
     "output_type": "stream",
     "text": [
      "10 is of type <class 'int'>\n",
      "10.5 is of type <class 'float'>\n",
      "10.5 is complex number? False\n",
      "(1+2j) is complex number? True\n"
     ]
    }
   ],
   "source": [
    "n1 = 10\n",
    "\n",
    "print (n1, \"is of type\", type (n1))\n",
    "\n",
    "n2 = 10.5\n",
    "\n",
    "print (n2, \"is of type\", type (n2)) \n",
    "print (n2, \"is complex number?\", isinstance (10.5, int))\n",
    "\n",
    "n3 = 1+ 2j\n",
    "\n",
    "print (n3, \"is complex number?\", isinstance (1 + 2j, complex))"
   ]
  },
  {
   "cell_type": "markdown",
   "metadata": {},
   "source": [
    "<hr style=\"border:1px solid black\"><b>String Datatype</b>"
   ]
  },
  {
   "cell_type": "code",
   "execution_count": 4,
   "metadata": {},
   "outputs": [
    {
     "name": "stdout",
     "output_type": "stream",
     "text": [
      "Name is :  Nishant Movaliya\n",
      "N\n",
      "sha\n",
      "shant Movaliya\n",
      "Nishant MovaliyaNishant Movaliya\n",
      "Nishant MovaliyaHello\n"
     ]
    }
   ],
   "source": [
    "name = \"Nishant Movaliya\"\n",
    "\n",
    "# Prints complete string \n",
    "print (\"Name is : \", name)\n",
    "\n",
    "# Prints first character of the string\n",
    "\n",
    "print (name [0])\n",
    "\n",
    "# Prints characters starting from 3rd to 5th\n",
    "\n",
    "print (name [2:5])\n",
    "\n",
    "# Prints string starting from 3rd character \n",
    "print (name [2:])\n",
    "\n",
    "# Prints string two times \n",
    "print (name * 2)\n",
    "\n",
    "# Prints concatenated string\n",
    "\n",
    "print (name + \"Hello\")"
   ]
  },
  {
   "cell_type": "markdown",
   "metadata": {},
   "source": [
    "<hr style=\"border:1px solid black\"><b>List Datatype</b>"
   ]
  },
  {
   "cell_type": "code",
   "execution_count": 5,
   "metadata": {},
   "outputs": [
    {
     "name": "stdout",
     "output_type": "stream",
     "text": [
      "[15, 10.5, 'Nishant']\n"
     ]
    }
   ],
   "source": [
    "list1 = [15, 10.5, 'Nishant']\n",
    "\n",
    "print (list1)"
   ]
  },
  {
   "cell_type": "code",
   "execution_count": 6,
   "metadata": {},
   "outputs": [
    {
     "name": "stdout",
     "output_type": "stream",
     "text": [
      "list1 [2] =  30\n",
      "list1 [0:3] =  [10, 20, 30]\n",
      "list1[5:] =  [50, 'Movaliya', 60]\n"
     ]
    }
   ],
   "source": [
    "list1= [10, 20, 30, \"Nishant\", 40, 50, \"Movaliya\", 60]\n",
    "\n",
    "# list1 [2] = 30\n",
    "\n",
    "print (\"list1 [2] = \", list1 [2])\n",
    "\n",
    "# list1[0:3] = [10, 20, 35] \n",
    "\n",
    "print (\"list1 [0:3] = \", list1 [0:3])\n",
    "\n",
    "# list1[5:] = [50, 'Movaliya', 60]\n",
    "\n",
    "print (\"list1[5:] = \", list1 [5:])"
   ]
  },
  {
   "cell_type": "code",
   "execution_count": 7,
   "metadata": {},
   "outputs": [
    {
     "name": "stdout",
     "output_type": "stream",
     "text": [
      "Enter number of elements : 5\n",
      "Enter Value: 12\n",
      "Enter Value: Nishant\n",
      "Enter Value: Movaliya\n",
      "Enter Value: 20.5\n",
      "Enter Value: Shyam\n",
      "['12', 'Nishant', 'Movaliya', '20.5', 'Shyam']\n"
     ]
    }
   ],
   "source": [
    "# creating an empty list\n",
    "\n",
    "lst = []\n",
    "\n",
    "# number of elements as input\n",
    "\n",
    "n = int(input(\"Enter number of elements : \"))\n",
    "\n",
    "# iterating till the range\n",
    "\n",
    "for i in range(0, n):\n",
    "    ele = input (\"Enter Value: \")\n",
    "    lst.append(ele) # adding the element\n",
    "\n",
    "print (lst)"
   ]
  },
  {
   "cell_type": "markdown",
   "metadata": {},
   "source": [
    "<hr style=\"border:1px solid black\"><b>Tuple Datatype</b>"
   ]
  },
  {
   "cell_type": "code",
   "execution_count": 8,
   "metadata": {},
   "outputs": [
    {
     "name": "stdout",
     "output_type": "stream",
     "text": [
      "(10, 20, 30, 'Nishant', 40, 50, 'Movaliya', 60)\n"
     ]
    }
   ],
   "source": [
    "tuple1 = (10, 20, 30, \"Nishant\", 40, 50, \"Movaliya\", 60)\n",
    "\n",
    "print (tuple1)"
   ]
  },
  {
   "cell_type": "code",
   "execution_count": 9,
   "metadata": {},
   "outputs": [
    {
     "name": "stdout",
     "output_type": "stream",
     "text": [
      "tuplel [2]= 30\n",
      "tuplel [0:3] (10, 20, 30)\n",
      "tuplel [5:] =  (50, 'Movaliya', 60)\n"
     ]
    }
   ],
   "source": [
    "tuplel = (10, 20, 30, \"Nishant\", 40, 50, \"Movaliya\", 60)\n",
    "\n",
    "#tuplel [2] = 30 \n",
    "print (\"tuplel [2]=\", tuplel [2])\n",
    "\n",
    "#tuplel (0:3] [10, 20, 35]\n",
    "\n",
    "print (\"tuplel [0:3]\", tuplel [0:3])\n",
    "\n",
    "#tuplel[5:] = [50, 'Movaliya', 60}\n",
    "\n",
    "print (\"tuplel [5:] = \", tuplel [5:])"
   ]
  },
  {
   "cell_type": "code",
   "execution_count": 10,
   "metadata": {},
   "outputs": [
    {
     "name": "stdout",
     "output_type": "stream",
     "text": [
      "Enter number of elements : 5\n",
      "Enter Value: 121\n",
      "Enter Value: 34.30\n",
      "Enter Value: Gopal\n",
      "Enter Value: Mohan\n",
      "Enter Value: 35\n",
      "['121', '34.30', 'Gopal', 'Mohan', '35']\n",
      "('121', '34.30', 'Gopal', 'Mohan', '35')\n"
     ]
    }
   ],
   "source": [
    "#creating an empty List\n",
    "\n",
    "ls = []\n",
    "\n",
    "#number of elements as input\n",
    "\n",
    "n = int(input(\"Enter number of elements : \"))\n",
    "\n",
    "# iterating till the range\n",
    "\n",
    "for i in range(0, n):\n",
    "    ele = input(\"Enter Value: \")\n",
    "    ls.append(ele) # adding the element\n",
    "    \n",
    "tupl=tuple (ls)\n",
    "\n",
    "print(ls)\n",
    "\n",
    "print(tupl) "
   ]
  },
  {
   "cell_type": "markdown",
   "metadata": {},
   "source": [
    "<hr style=\"border:1px solid black\"><b>Dictionary Datatype</b>"
   ]
  },
  {
   "cell_type": "code",
   "execution_count": 11,
   "metadata": {},
   "outputs": [
    {
     "name": "stdout",
     "output_type": "stream",
     "text": [
      "<class 'dict'>\n",
      "d[1] =  Akash\n",
      "d[2] =  Technolabs\n",
      "d['key'] =  10\n"
     ]
    }
   ],
   "source": [
    "d = {1: 'Akash', 2: 'Technolabs', 'key': 10}\n",
    "\n",
    "print (type (d))\n",
    "\n",
    "print (\"d[1] = \", d[1])\n",
    "\n",
    "print (\"d[2] = \", d[2])\n",
    "\n",
    "print (\"d['key'] = \", d['key'])"
   ]
  },
  {
   "cell_type": "code",
   "execution_count": 12,
   "metadata": {},
   "outputs": [
    {
     "name": "stdout",
     "output_type": "stream",
     "text": [
      "Input the total number : 5\n",
      "Enter the key value pair :1 Krishna\n",
      "Enter the key value pair :2 Gopal\n",
      "Enter the key value pair :3 Shyam\n",
      "Enter the key value pair :4 Mohan\n",
      "Enter the key value pair :5 Achyut\n",
      "{'1': ['Krishna'], '2': ['Gopal'], '3': ['Shyam'], '4': ['Mohan'], '5': ['Achyut']}\n"
     ]
    }
   ],
   "source": [
    "mydict = {}\n",
    "\n",
    "for totnum in range(0, int (input('Input the total number : '))): \n",
    "    a, b = input('Enter the key value pair :').split() \n",
    "    if a in mydict:\n",
    "        mydict[a].append(b)\n",
    "    else:\n",
    "        mydict[a] = [b]\n",
    "\n",
    "print(mydict)"
   ]
  },
  {
   "cell_type": "code",
   "execution_count": null,
   "metadata": {},
   "outputs": [],
   "source": []
  }
 ],
 "metadata": {
  "kernelspec": {
   "display_name": "Python 3",
   "language": "python",
   "name": "python3"
  },
  "language_info": {
   "codemirror_mode": {
    "name": "ipython",
    "version": 3
   },
   "file_extension": ".py",
   "mimetype": "text/x-python",
   "name": "python",
   "nbconvert_exporter": "python",
   "pygments_lexer": "ipython3",
   "version": "3.8.3"
  }
 },
 "nbformat": 4,
 "nbformat_minor": 4
}
