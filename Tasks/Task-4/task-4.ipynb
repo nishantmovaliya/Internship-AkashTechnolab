{
 "cells": [
  {
   "cell_type": "markdown",
   "metadata": {},
   "source": [
    "<b>Functions in Python</b>"
   ]
  },
  {
   "cell_type": "code",
   "execution_count": 1,
   "metadata": {},
   "outputs": [
    {
     "name": "stdout",
     "output_type": "stream",
     "text": [
      "Hello World!\n"
     ]
    }
   ],
   "source": [
    "def my_fun():\n",
    "    print('Hello World!');\n",
    "    \n",
    "my_fun()"
   ]
  },
  {
   "cell_type": "code",
   "execution_count": 2,
   "metadata": {},
   "outputs": [
    {
     "name": "stdout",
     "output_type": "stream",
     "text": [
      "My name is Nishant Movaliya\n"
     ]
    }
   ],
   "source": [
    "#Example With Argument\n",
    "def my_fun(name):\n",
    "    print('My name is',name)\n",
    "    \n",
    "my_fun('Nishant Movaliya')"
   ]
  },
  {
   "cell_type": "code",
   "execution_count": 3,
   "metadata": {},
   "outputs": [
    {
     "name": "stdout",
     "output_type": "stream",
     "text": [
      "Nishant Movaliya\n"
     ]
    }
   ],
   "source": [
    "#Example with return Statement\n",
    "def my_fun(name):\n",
    "    return name\n",
    "    \n",
    "name = my_fun('Nishant Movaliya')\n",
    "print(name)"
   ]
  },
  {
   "cell_type": "code",
   "execution_count": 4,
   "metadata": {},
   "outputs": [
    {
     "name": "stdout",
     "output_type": "stream",
     "text": [
      "Name : Nishant Movaliaya\n",
      "Contact : 1234567890\n"
     ]
    }
   ],
   "source": [
    "#Example With Multiple Return Statement\n",
    "def my_fun():\n",
    "    name = \"Nishant Movaliaya\"\n",
    "    contact='1234567890'\n",
    "    return name,contact\n",
    "    \n",
    "name,contact = my_fun()\n",
    "print('Name :',name)\n",
    "print('Contact :',contact)"
   ]
  },
  {
   "cell_type": "markdown",
   "metadata": {},
   "source": [
    "<hr style=\"border:1px solid black\"><b>Python function arguments</b>"
   ]
  },
  {
   "cell_type": "code",
   "execution_count": 5,
   "metadata": {},
   "outputs": [
    {
     "name": "stdout",
     "output_type": "stream",
     "text": [
      "30\n",
      "12\n"
     ]
    }
   ],
   "source": [
    "def sum (a=5, b=7):\n",
    "#\"\"\" This function will print sum of two numbers if the arguments are not supplied it will add the default value \"\"\"\n",
    "    print (a+b)\n",
    "\n",
    "sum (10,20) #calling with arguments\n",
    "\n",
    "sum() #calling without arguments"
   ]
  },
  {
   "cell_type": "code",
   "execution_count": 6,
   "metadata": {},
   "outputs": [
    {
     "name": "stdout",
     "output_type": "stream",
     "text": [
      "Sum is : 30\n"
     ]
    }
   ],
   "source": [
    "def sum (a, b):\n",
    "    print (\"Sum is :\",a+b)\n",
    "\n",
    "sum (b= 10, a = 20) #calling with arguments"
   ]
  },
  {
   "cell_type": "code",
   "execution_count": 7,
   "metadata": {},
   "outputs": [
    {
     "name": "stdout",
     "output_type": "stream",
     "text": [
      "Sum: 30\n",
      "Sum: 60\n"
     ]
    }
   ],
   "source": [
    "def add (*num):\n",
    "    sum = 0\n",
    "    for n in num:\n",
    "        sum = sum + n\n",
    "    \n",
    "    print (\"Sum:\", sum)\n",
    "\n",
    "add (10,20)\n",
    "\n",
    "add (10,20,30)"
   ]
  },
  {
   "cell_type": "code",
   "execution_count": 8,
   "metadata": {},
   "outputs": [
    {
     "name": "stdout",
     "output_type": "stream",
     "text": [
      "Name Nishant\n",
      "Lastname Movaliya\n"
     ]
    }
   ],
   "source": [
    "def my_func(**arg):\n",
    "    for i, j in arg.items():\n",
    "        print (i, j)\n",
    "\n",
    "my_func (Name ='Nishant', Lastname='Movaliya')"
   ]
  },
  {
   "cell_type": "markdown",
   "metadata": {},
   "source": [
    "<hr style=\"border:1px solid black\"><b>Scope of Variables</b>"
   ]
  },
  {
   "cell_type": "code",
   "execution_count": 9,
   "metadata": {},
   "outputs": [
    {
     "name": "stdout",
     "output_type": "stream",
     "text": [
      "Value inside function: 20\n",
      "Value outside function: 40\n"
     ]
    }
   ],
   "source": [
    "def my_func():\n",
    "    x = 20\n",
    "    print (\"Value inside function:\",x)\n",
    "\n",
    "x = 40\n",
    "my_func()\n",
    "print (\"Value outside function:\",x)"
   ]
  },
  {
   "cell_type": "markdown",
   "metadata": {},
   "source": [
    "<hr style=\"border:1px solid black\"><b>Significance of Indentation (Space) in Python</b>"
   ]
  },
  {
   "cell_type": "code",
   "execution_count": 10,
   "metadata": {},
   "outputs": [
    {
     "name": "stdout",
     "output_type": "stream",
     "text": [
      "Hello World!\n",
      "Hello World!\n"
     ]
    }
   ],
   "source": [
    "def my_fun():\n",
    "    print (\"Hello World!\")\n",
    "\n",
    "my_fun()\n",
    "my_fun()"
   ]
  },
  {
   "cell_type": "markdown",
   "metadata": {},
   "source": [
    "<hr style=\"border:1px solid black\"><b><h2>Operators in Python</h2></b>"
   ]
  },
  {
   "cell_type": "markdown",
   "metadata": {},
   "source": [
    "<hr style=\"\"><b>Arithmetic Operators</b>"
   ]
  },
  {
   "cell_type": "code",
   "execution_count": 11,
   "metadata": {},
   "outputs": [
    {
     "name": "stdout",
     "output_type": "stream",
     "text": [
      "x + y = 9\n",
      "x-y= 1\n",
      "x* y = 20\n",
      "x / y =  1.25\n",
      "x // y = 1\n",
      "x ** y =  625\n"
     ]
    }
   ],
   "source": [
    "x = 5\n",
    "\n",
    "y = 4\n",
    "\n",
    "print ('x + y =', x + y)\n",
    "\n",
    "print ('x-y=',x - y)\n",
    "\n",
    "print ('x* y =', x * y)\n",
    "\n",
    "print ('x / y = ', x/y)\n",
    "\n",
    "print('x // y =', x // y) #Floor division\n",
    "\n",
    "print ('x ** y = ', x ** y) #Exponent"
   ]
  },
  {
   "cell_type": "markdown",
   "metadata": {},
   "source": [
    " <hr style=\"\"><b>Comparison operators</b>"
   ]
  },
  {
   "cell_type": "code",
   "execution_count": 12,
   "metadata": {},
   "outputs": [
    {
     "name": "stdout",
     "output_type": "stream",
     "text": [
      "x > y is True\n",
      "x < y False\n",
      "x == y is False\n",
      "x != y is True\n",
      "x >= y is True\n",
      "x <= y is False\n"
     ]
    }
   ],
   "source": [
    "x = 20\n",
    "\n",
    "y = 15\n",
    "\n",
    "print ('x > y is', x> y)\n",
    "print ('x < y',x < y)\n",
    "print('x == y is',x == y)\n",
    "print('x != y is', x != y)\n",
    "\n",
    "print('x >= y is', x >= y)\n",
    "\n",
    "print ('x <= y is', x <= y)"
   ]
  },
  {
   "cell_type": "markdown",
   "metadata": {},
   "source": [
    "<hr style=\"\"><b>Logical operators</b>"
   ]
  },
  {
   "cell_type": "code",
   "execution_count": 13,
   "metadata": {},
   "outputs": [
    {
     "name": "stdout",
     "output_type": "stream",
     "text": [
      "n3 is the largest number.\n"
     ]
    }
   ],
   "source": [
    "#Example of and\n",
    "n1=100\n",
    "\n",
    "n2=200\n",
    "\n",
    "n3=300\n",
    "\n",
    "if n1 > n2 and n1 > n3:\n",
    "    print(\"n1 is the largest number\")\n",
    "\n",
    "if n2 > n1 and n2 > n3:\n",
    "    print(\"n2 is the largest number.\")\n",
    "\n",
    "if n3 > n1 and n3 > n2:\n",
    "    print(\"n3 is the largest number.\")"
   ]
  },
  {
   "cell_type": "code",
   "execution_count": 14,
   "metadata": {},
   "outputs": [
    {
     "name": "stdout",
     "output_type": "stream",
     "text": [
      "Enter a character: a\n",
      "a is a Vowel\n"
     ]
    }
   ],
   "source": [
    "#Example of or\n",
    "ch = input(\"Enter a character: \")\n",
    "\n",
    "if (ch== 'A' or ch== 'a' or ch== 'E' or ch =='e' or ch=='I' or ch== 'i' or ch=='0' or ch== 'o' or ch== 'U' or ch== 'u'):\n",
    "    print(ch, \"is a Vowel\")\n",
    "else:\n",
    "\n",
    "    print(ch, \"is a Consonant\")"
   ]
  },
  {
   "cell_type": "markdown",
   "metadata": {},
   "source": [
    "<hr style=\"\"><b>Assignment operators</b>"
   ]
  },
  {
   "cell_type": "code",
   "execution_count": 15,
   "metadata": {},
   "outputs": [
    {
     "name": "stdout",
     "output_type": "stream",
     "text": [
      "True\n",
      "False\n",
      "True\n"
     ]
    }
   ],
   "source": [
    "#Membership operators\n",
    "x = 30\n",
    "Y = 6\n",
    "\n",
    "list1 = [10, 20, 30, 40, 50]\n",
    "\n",
    "print (x in list1)\n",
    "\n",
    "print (y in list1)\n",
    "\n",
    "print (y not in list1)"
   ]
  },
  {
   "cell_type": "code",
   "execution_count": 16,
   "metadata": {},
   "outputs": [
    {
     "name": "stdout",
     "output_type": "stream",
     "text": [
      "True\n",
      "False\n"
     ]
    }
   ],
   "source": [
    "#Identity operators\n",
    "x = 10 \n",
    "y = 10\n",
    "\n",
    "print (x is y)\n",
    "\n",
    "print (x is not y)"
   ]
  },
  {
   "cell_type": "code",
   "execution_count": null,
   "metadata": {},
   "outputs": [],
   "source": []
  }
 ],
 "metadata": {
  "kernelspec": {
   "display_name": "Python 3",
   "language": "python",
   "name": "python3"
  },
  "language_info": {
   "codemirror_mode": {
    "name": "ipython",
    "version": 3
   },
   "file_extension": ".py",
   "mimetype": "text/x-python",
   "name": "python",
   "nbconvert_exporter": "python",
   "pygments_lexer": "ipython3",
   "version": "3.8.3"
  }
 },
 "nbformat": 4,
 "nbformat_minor": 4
}
